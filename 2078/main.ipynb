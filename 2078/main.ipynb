{
 "cells": [
  {
   "cell_type": "code",
   "execution_count": 57,
   "metadata": {},
   "outputs": [],
   "source": [
    "x = 715827882\n",
    "y = 357913941\n",
    "m = 12332456"
   ]
  },
  {
   "cell_type": "code",
   "execution_count": 58,
   "metadata": {},
   "outputs": [],
   "source": [
    "a = 5674433\n",
    "b = 56896"
   ]
  },
  {
   "cell_type": "code",
   "execution_count": 59,
   "metadata": {},
   "outputs": [
    {
     "name": "stdout",
     "output_type": "stream",
     "text": [
      "000000010101101001010111000001\n",
      "000000000000001101111001000000\n"
     ]
    }
   ],
   "source": [
    "print(f\"{a:030b}\")\n",
    "print(f\"{b:030b}\")"
   ]
  },
  {
   "cell_type": "code",
   "execution_count": 60,
   "metadata": {},
   "outputs": [
    {
     "name": "stdout",
     "output_type": "stream",
     "text": [
      "1437187797\n",
      "716027178\n",
      "00001010101101010011011111011010101\n",
      "00000101010101011011011010100101010\n"
     ]
    }
   ],
   "source": [
    "r1 = (x|a) + (x|b)\n",
    "r2 = (y|a) + (y|b)\n",
    "print(r1)\n",
    "print(r2)\n",
    "print(f\"{r1:035b}\")\n",
    "\n",
    "print(f\"{r2:035b}\")"
   ]
  },
  {
   "cell_type": "code",
   "execution_count": 61,
   "metadata": {},
   "outputs": [
    {
     "data": {
      "text/plain": [
       "29081041"
      ]
     },
     "execution_count": 61,
     "metadata": {},
     "output_type": "execute_result"
    }
   ],
   "source": [
    "(m|a) + (m|b)"
   ]
  }
 ],
 "metadata": {
  "kernelspec": {
   "display_name": "Python 3",
   "language": "python",
   "name": "python3"
  },
  "language_info": {
   "codemirror_mode": {
    "name": "ipython",
    "version": 3
   },
   "file_extension": ".py",
   "mimetype": "text/x-python",
   "name": "python",
   "nbconvert_exporter": "python",
   "pygments_lexer": "ipython3",
   "version": "3.9.6"
  }
 },
 "nbformat": 4,
 "nbformat_minor": 2
}
