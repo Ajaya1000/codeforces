{
 "cells": [
  {
   "cell_type": "code",
   "execution_count": 3,
   "id": "5c55626e",
   "metadata": {},
   "outputs": [
    {
     "data": {
      "text/plain": [
       "'0b1111'"
      ]
     },
     "execution_count": 3,
     "metadata": {},
     "output_type": "execute_result"
    }
   ],
   "source": [
    "bin(15)"
   ]
  },
  {
   "cell_type": "markdown",
   "id": "03f86879",
   "metadata": {},
   "source": [
    "1 5 21 85 341 1365 5461 21845 87381 349525 1398101 5592405 22369621 89478485 357913941 1431655765 \n",
    "\n",
    "for 123456789101112131\n",
    "86233571 0 0 1 3 2 1 1 2 0 1 0 3 2 4 0 \n",
    "\n",
    "for 1234566\n",
    "0 0 0 0 0 0 3 2 0 2 0 0 3 2 2 0 \n",
    "10579661"
   ]
  },
  {
   "cell_type": "code",
   "execution_count": 4,
   "id": "4187546f",
   "metadata": {},
   "outputs": [
    {
     "data": {
      "text/plain": [
       "123456789058686815"
      ]
     },
     "execution_count": 4,
     "metadata": {},
     "output_type": "execute_result"
    }
   ],
   "source": [
    "1431655765 * 86233571"
   ]
  },
  {
   "cell_type": "code",
   "execution_count": 5,
   "id": "933e9a0a",
   "metadata": {},
   "outputs": [
    {
     "data": {
      "text/plain": [
       "42425316"
      ]
     },
     "execution_count": 5,
     "metadata": {},
     "output_type": "execute_result"
    }
   ],
   "source": [
    "123456789101112131 - 123456789058686815"
   ]
  },
  {
   "cell_type": "code",
   "execution_count": null,
   "id": "a77db2aa",
   "metadata": {},
   "outputs": [],
   "source": []
  }
 ],
 "metadata": {
  "kernelspec": {
   "display_name": ".venv",
   "language": "python",
   "name": "python3"
  },
  "language_info": {
   "codemirror_mode": {
    "name": "ipython",
    "version": 3
   },
   "file_extension": ".py",
   "mimetype": "text/x-python",
   "name": "python",
   "nbconvert_exporter": "python",
   "pygments_lexer": "ipython3",
   "version": "3.12.2"
  }
 },
 "nbformat": 4,
 "nbformat_minor": 5
}
