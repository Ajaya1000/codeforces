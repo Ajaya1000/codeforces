{
 "cells": [
  {
   "cell_type": "code",
   "execution_count": 9,
   "id": "dc689c77",
   "metadata": {},
   "outputs": [],
   "source": [
    "s1 = 97+59+50+87+36\n",
    "s2 = 95+77+33+13+74"
   ]
  },
  {
   "cell_type": "code",
   "execution_count": 10,
   "id": "766ee0d8",
   "metadata": {},
   "outputs": [
    {
     "data": {
      "text/plain": [
       "(329, 292)"
      ]
     },
     "execution_count": 10,
     "metadata": {},
     "output_type": "execute_result"
    }
   ],
   "source": [
    "s1,s2"
   ]
  },
  {
   "cell_type": "code",
   "execution_count": 7,
   "id": "3ddf80a0",
   "metadata": {},
   "outputs": [
    {
     "data": {
      "text/plain": [
       "425"
      ]
     },
     "execution_count": 7,
     "metadata": {},
     "output_type": "execute_result"
    }
   ],
   "source": [
    "329+96"
   ]
  },
  {
   "cell_type": "code",
   "execution_count": 11,
   "id": "733fe55b",
   "metadata": {},
   "outputs": [
    {
     "data": {
      "text/plain": [
       "390"
      ]
     },
     "execution_count": 11,
     "metadata": {},
     "output_type": "execute_result"
    }
   ],
   "source": [
    "292 + 98"
   ]
  },
  {
   "cell_type": "code",
   "execution_count": null,
   "id": "447ebbd8",
   "metadata": {},
   "outputs": [],
   "source": []
  }
 ],
 "metadata": {
  "kernelspec": {
   "display_name": "Python 3",
   "language": "python",
   "name": "python3"
  },
  "language_info": {
   "codemirror_mode": {
    "name": "ipython",
    "version": 3
   },
   "file_extension": ".py",
   "mimetype": "text/x-python",
   "name": "python",
   "nbconvert_exporter": "python",
   "pygments_lexer": "ipython3",
   "version": "3.9.6"
  }
 },
 "nbformat": 4,
 "nbformat_minor": 5
}
