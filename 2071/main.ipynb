{
 "cells": [
  {
   "cell_type": "code",
   "execution_count": 1,
   "metadata": {},
   "outputs": [],
   "source": [
    "n = 5"
   ]
  },
  {
   "cell_type": "code",
   "execution_count": 2,
   "metadata": {},
   "outputs": [],
   "source": [
    "A = []"
   ]
  },
  {
   "cell_type": "code",
   "execution_count": 3,
   "metadata": {},
   "outputs": [],
   "source": [
    "for i in range(0, n):\n",
    "    A.append(set({i+1}))\n",
    "\n",
    "def getSet(SA, SB):\n",
    "    return (SA | SB) - (SA & SB)"
   ]
  },
  {
   "cell_type": "code",
   "execution_count": 4,
   "metadata": {},
   "outputs": [
    {
     "name": "stdout",
     "output_type": "stream",
     "text": [
      "6 : {1, 2, 3}\n",
      "7 : {1, 2, 3}\n",
      "8 : {1, 2, 3, 4}\n",
      "9 : {1, 2, 3, 4}\n",
      "10 : {1, 2, 3, 4, 5}\n",
      "11 : {1, 2, 3, 4, 5}\n",
      "12 : {4, 5}\n",
      "13 : {4, 5}\n",
      "14 : {1, 2, 3, 4, 5}\n",
      "15 : {1, 2, 3, 4, 5}\n",
      "16 : {5}\n",
      "17 : {5}\n",
      "18 : {1, 2, 3, 4, 5}\n",
      "19 : {1, 2, 3, 4, 5}\n",
      "20 : set()\n",
      "21 : set()\n",
      "22 : {1, 2, 3, 4, 5}\n",
      "23 : {1, 2, 3, 4, 5}\n",
      "24 : {1, 2, 3}\n",
      "25 : {1, 2, 3}\n",
      "26 : {1, 2, 3, 4, 5}\n",
      "27 : {1, 2, 3, 4, 5}\n",
      "28 : set()\n",
      "29 : set()\n",
      "30 : {1, 2, 3, 4, 5}\n",
      "31 : {1, 2, 3, 4, 5}\n",
      "32 : {1, 2, 3, 4}\n",
      "33 : {1, 2, 3, 4}\n",
      "34 : {1, 2, 3, 4, 5}\n",
      "35 : {1, 2, 3, 4, 5}\n",
      "36 : set()\n",
      "37 : set()\n",
      "38 : {1, 2, 3, 4, 5}\n",
      "39 : {1, 2, 3, 4, 5}\n",
      "40 : {1, 2, 3, 4, 5}\n",
      "41 : {1, 2, 3, 4, 5}\n",
      "42 : {1, 2, 3, 4, 5}\n",
      "43 : {1, 2, 3, 4, 5}\n",
      "44 : set()\n",
      "45 : set()\n",
      "46 : {1, 2, 3, 4, 5}\n",
      "47 : {1, 2, 3, 4, 5}\n",
      "48 : {4, 5}\n",
      "49 : {4, 5}\n",
      "50 : {1, 2, 3, 4, 5}\n",
      "51 : {1, 2, 3, 4, 5}\n",
      "52 : set()\n",
      "53 : set()\n",
      "54 : {1, 2, 3, 4, 5}\n",
      "55 : {1, 2, 3, 4, 5}\n",
      "56 : {1, 2, 3, 4, 5}\n",
      "57 : {1, 2, 3, 4, 5}\n",
      "58 : {1, 2, 3, 4, 5}\n",
      "59 : {1, 2, 3, 4, 5}\n",
      "60 : set()\n",
      "61 : set()\n",
      "62 : {1, 2, 3, 4, 5}\n",
      "63 : {1, 2, 3, 4, 5}\n",
      "64 : {5}\n",
      "65 : {5}\n",
      "66 : {1, 2, 3, 4, 5}\n",
      "67 : {1, 2, 3, 4, 5}\n",
      "68 : set()\n",
      "69 : set()\n",
      "70 : {1, 2, 3, 4, 5}\n",
      "71 : {1, 2, 3, 4, 5}\n",
      "72 : {1, 2, 3, 4, 5}\n",
      "73 : {1, 2, 3, 4, 5}\n",
      "74 : {1, 2, 3, 4, 5}\n",
      "75 : {1, 2, 3, 4, 5}\n",
      "76 : set()\n",
      "77 : set()\n",
      "78 : {1, 2, 3, 4, 5}\n",
      "79 : {1, 2, 3, 4, 5}\n",
      "80 : set()\n",
      "81 : set()\n",
      "82 : {1, 2, 3, 4, 5}\n",
      "83 : {1, 2, 3, 4, 5}\n",
      "84 : set()\n",
      "85 : set()\n",
      "86 : {1, 2, 3, 4, 5}\n",
      "87 : {1, 2, 3, 4, 5}\n",
      "88 : {1, 2, 3, 4, 5}\n",
      "89 : {1, 2, 3, 4, 5}\n",
      "90 : {1, 2, 3, 4, 5}\n",
      "91 : {1, 2, 3, 4, 5}\n",
      "92 : set()\n",
      "93 : set()\n",
      "94 : {1, 2, 3, 4, 5}\n",
      "95 : {1, 2, 3, 4, 5}\n",
      "96 : {1, 2, 3}\n",
      "97 : {1, 2, 3}\n",
      "98 : {1, 2, 3, 4, 5}\n",
      "99 : {1, 2, 3, 4, 5}\n",
      "100 : set()\n"
     ]
    }
   ],
   "source": [
    "j = 0\n",
    "\n",
    "S = set()\n",
    "\n",
    "for i in range(n, 100):\n",
    "    while j < (i+1)//2:\n",
    "        S = getSet(S,A[j])\n",
    "        j+=1\n",
    "    A.append(S.copy())\n",
    "    print(i+1, \":\", S)\n"
   ]
  },
  {
   "cell_type": "code",
   "execution_count": null,
   "metadata": {},
   "outputs": [],
   "source": []
  },
  {
   "cell_type": "code",
   "execution_count": null,
   "metadata": {},
   "outputs": [],
   "source": []
  }
 ],
 "metadata": {
  "kernelspec": {
   "display_name": ".venv",
   "language": "python",
   "name": "python3"
  },
  "language_info": {
   "codemirror_mode": {
    "name": "ipython",
    "version": 3
   },
   "file_extension": ".py",
   "mimetype": "text/x-python",
   "name": "python",
   "nbconvert_exporter": "python",
   "pygments_lexer": "ipython3",
   "version": "3.12.2"
  }
 },
 "nbformat": 4,
 "nbformat_minor": 2
}
