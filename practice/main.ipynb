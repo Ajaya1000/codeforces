{
 "cells": [
  {
   "cell_type": "code",
   "execution_count": 1,
   "id": "5352fcd6",
   "metadata": {},
   "outputs": [
    {
     "data": {
      "text/plain": [
       "(89, 109)"
      ]
     },
     "execution_count": 1,
     "metadata": {},
     "output_type": "execute_result"
    }
   ],
   "source": [
    "89,109"
   ]
  },
  {
   "cell_type": "code",
   "execution_count": 2,
   "id": "b6b9d15c",
   "metadata": {},
   "outputs": [
    {
     "data": {
      "text/plain": [
       "(25, 45)"
      ]
     },
     "execution_count": 2,
     "metadata": {},
     "output_type": "execute_result"
    }
   ],
   "source": [
    "89-64,109-64"
   ]
  },
  {
   "cell_type": "code",
   "execution_count": 3,
   "id": "3a140683",
   "metadata": {},
   "outputs": [
    {
     "data": {
      "text/plain": [
       "(9, 29)"
      ]
     },
     "execution_count": 3,
     "metadata": {},
     "output_type": "execute_result"
    }
   ],
   "source": [
    "25-16, 45-16"
   ]
  },
  {
   "cell_type": "code",
   "execution_count": 7,
   "id": "c3be06c2",
   "metadata": {},
   "outputs": [
    {
     "data": {
      "text/plain": [
       "(256, 288, 320)"
      ]
     },
     "execution_count": 7,
     "metadata": {},
     "output_type": "execute_result"
    }
   ],
   "source": [
    "((243//32) + 1) * 32, ((243//32) + 2) * 32, ((243//32) + 3) * 32"
   ]
  },
  {
   "cell_type": "code",
   "execution_count": 3,
   "id": "bc58c2df",
   "metadata": {},
   "outputs": [],
   "source": [
    "s = \"ktffetfekktttteeekffkekkttfttfeftefftk\"\n",
    "n = len(s)"
   ]
  },
  {
   "cell_type": "code",
   "execution_count": 8,
   "id": "687de7d3",
   "metadata": {},
   "outputs": [
    {
     "name": "stdout",
     "output_type": "stream",
     "text": [
      "ktffetfekktttteeekf\n",
      "ktffetfefttfttkkekf\n"
     ]
    }
   ],
   "source": [
    "print(s[0:n//2])\n",
    "print(s[n//2:n][::-1])"
   ]
  },
  {
   "cell_type": "code",
   "execution_count": 4,
   "id": "5c6f79e5",
   "metadata": {},
   "outputs": [
    {
     "data": {
      "text/plain": [
       "33.219280948873624"
      ]
     },
     "execution_count": 4,
     "metadata": {},
     "output_type": "execute_result"
    }
   ],
   "source": [
    "import math\n",
    "\n",
    "math.log2(int(10e9))"
   ]
  },
  {
   "cell_type": "code",
   "execution_count": 5,
   "id": "056b59c2",
   "metadata": {},
   "outputs": [
    {
     "data": {
      "text/plain": [
       "'0b101001101'"
      ]
     },
     "execution_count": 5,
     "metadata": {},
     "output_type": "execute_result"
    }
   ],
   "source": [
    "bin(333)"
   ]
  },
  {
   "cell_type": "code",
   "execution_count": 7,
   "id": "8bfe00d9",
   "metadata": {},
   "outputs": [
    {
     "data": {
      "text/plain": [
       "507"
      ]
     },
     "execution_count": 7,
     "metadata": {},
     "output_type": "execute_result"
    }
   ],
   "source": [
    "2**9 -5"
   ]
  },
  {
   "cell_type": "code",
   "execution_count": 10,
   "id": "c20f385f",
   "metadata": {},
   "outputs": [
    {
     "data": {
      "text/plain": [
       "393"
      ]
     },
     "execution_count": 10,
     "metadata": {},
     "output_type": "execute_result"
    }
   ],
   "source": [
    "int(\"110001001\",2)"
   ]
  },
  {
   "cell_type": "code",
   "execution_count": null,
   "id": "8f2971fc",
   "metadata": {},
   "outputs": [],
   "source": []
  }
 ],
 "metadata": {
  "kernelspec": {
   "display_name": "Python 3",
   "language": "python",
   "name": "python3"
  },
  "language_info": {
   "codemirror_mode": {
    "name": "ipython",
    "version": 3
   },
   "file_extension": ".py",
   "mimetype": "text/x-python",
   "name": "python",
   "nbconvert_exporter": "python",
   "pygments_lexer": "ipython3",
   "version": "3.9.6"
  }
 },
 "nbformat": 4,
 "nbformat_minor": 5
}
