{
 "cells": [
  {
   "cell_type": "code",
   "execution_count": 1,
   "id": "411fd49e",
   "metadata": {},
   "outputs": [],
   "source": [
    "s = \"WWWWRRWRRRRRWRRWRWRRWRRWWWWWWWRWWRWWRRRR\""
   ]
  },
  {
   "cell_type": "code",
   "execution_count": 3,
   "id": "2d55f910",
   "metadata": {},
   "outputs": [
    {
     "name": "stdout",
     "output_type": "stream",
     "text": [
      "WWWWRRWRRRRRWRRWRWRR\n",
      "WRRWWWWWWWRWWRWWRRRR\n"
     ]
    }
   ],
   "source": [
    "print(s[:20])\n",
    "print(s[20:])"
   ]
  },
  {
   "cell_type": "code",
   "execution_count": null,
   "id": "fa5fd664",
   "metadata": {},
   "outputs": [],
   "source": []
  }
 ],
 "metadata": {
  "kernelspec": {
   "display_name": "Python 3",
   "language": "python",
   "name": "python3"
  },
  "language_info": {
   "codemirror_mode": {
    "name": "ipython",
    "version": 3
   },
   "file_extension": ".py",
   "mimetype": "text/x-python",
   "name": "python",
   "nbconvert_exporter": "python",
   "pygments_lexer": "ipython3",
   "version": "3.9.6"
  }
 },
 "nbformat": 4,
 "nbformat_minor": 5
}
